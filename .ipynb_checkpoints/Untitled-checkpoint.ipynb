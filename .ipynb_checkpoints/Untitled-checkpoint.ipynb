{
 "cells": [
  {
   "cell_type": "code",
   "execution_count": 1,
   "id": "1a811bef-4c92-4bbf-a1cd-30aac136e8ea",
   "metadata": {},
   "outputs": [
    {
     "name": "stdout",
     "output_type": "stream",
     "text": [
      "Collecting google-cloud-speech\n",
      "  Downloading google_cloud_speech-2.9.3-py2.py3-none-any.whl (121 kB)\n",
      "Requirement already satisfied: packaging>=14.3 in c:\\users\\takuc\\.conda\\envs\\python38_android\\lib\\site-packages (from google-cloud-speech) (20.8)\n",
      "Collecting google-api-core[grpc]<3.0.0dev,>=1.26.0\n",
      "  Downloading google_api_core-2.1.0-py2.py3-none-any.whl (94 kB)\n",
      "Requirement already satisfied: setuptools>=40.3.0 in c:\\users\\takuc\\.conda\\envs\\python38_android\\lib\\site-packages (from google-api-core[grpc]<3.0.0dev,>=1.26.0->google-cloud-speech) (51.1.2.post20210112)\n",
      "Requirement already satisfied: requests<3.0.0dev,>=2.18.0 in c:\\users\\takuc\\.conda\\envs\\python38_android\\lib\\site-packages (from google-api-core[grpc]<3.0.0dev,>=1.26.0->google-cloud-speech) (2.26.0)\n",
      "Collecting google-auth<3.0dev,>=1.25.0\n",
      "  Downloading google_auth-2.3.0-py2.py3-none-any.whl (154 kB)\n",
      "Collecting cachetools<5.0,>=2.0.0\n",
      "  Downloading cachetools-4.2.4-py3-none-any.whl (10 kB)\n",
      "Collecting googleapis-common-protos<2.0dev,>=1.6.0\n",
      "  Downloading googleapis_common_protos-1.53.0-py2.py3-none-any.whl (198 kB)\n",
      "Collecting grpcio<2.0dev,>=1.33.2\n",
      "  Downloading grpcio-1.41.0-cp38-cp38-win_amd64.whl (3.2 MB)\n",
      "Requirement already satisfied: six>=1.5.2 in c:\\users\\takuc\\.conda\\envs\\python38_android\\lib\\site-packages (from grpcio<2.0dev,>=1.33.2->google-api-core[grpc]<3.0.0dev,>=1.26.0->google-cloud-speech) (1.15.0)\n",
      "Collecting libcst>=0.2.5\n",
      "  Downloading libcst-0.3.21-py3-none-any.whl (514 kB)\n",
      "Requirement already satisfied: pyparsing>=2.0.2 in c:\\users\\takuc\\.conda\\envs\\python38_android\\lib\\site-packages (from packaging>=14.3->google-cloud-speech) (2.4.7)\n",
      "Collecting proto-plus>=1.4.0\n",
      "  Downloading proto_plus-1.19.4-py3-none-any.whl (44 kB)\n",
      "Collecting protobuf>=3.12.0\n",
      "  Downloading protobuf-3.18.1-cp38-cp38-win_amd64.whl (912 kB)\n",
      "Collecting pyasn1-modules>=0.2.1\n",
      "  Using cached pyasn1_modules-0.2.8-py2.py3-none-any.whl (155 kB)\n",
      "Collecting pyasn1<0.5.0,>=0.4.6\n",
      "  Using cached pyasn1-0.4.8-py2.py3-none-any.whl (77 kB)\n",
      "Collecting pyyaml>=5.2\n",
      "  Using cached PyYAML-5.4.1-cp38-cp38-win_amd64.whl (213 kB)\n",
      "Requirement already satisfied: charset-normalizer~=2.0.0 in c:\\users\\takuc\\.conda\\envs\\python38_android\\lib\\site-packages (from requests<3.0.0dev,>=2.18.0->google-api-core[grpc]<3.0.0dev,>=1.26.0->google-cloud-speech) (2.0.4)\n",
      "Requirement already satisfied: certifi>=2017.4.17 in c:\\users\\takuc\\.conda\\envs\\python38_android\\lib\\site-packages (from requests<3.0.0dev,>=2.18.0->google-api-core[grpc]<3.0.0dev,>=1.26.0->google-cloud-speech) (2021.5.30)\n",
      "Requirement already satisfied: idna<4,>=2.5 in c:\\users\\takuc\\.conda\\envs\\python38_android\\lib\\site-packages (from requests<3.0.0dev,>=2.18.0->google-api-core[grpc]<3.0.0dev,>=1.26.0->google-cloud-speech) (3.2)\n",
      "Requirement already satisfied: urllib3<1.27,>=1.21.1 in c:\\users\\takuc\\.conda\\envs\\python38_android\\lib\\site-packages (from requests<3.0.0dev,>=2.18.0->google-api-core[grpc]<3.0.0dev,>=1.26.0->google-cloud-speech) (1.26.7)\n",
      "Collecting rsa<5,>=3.1.4\n",
      "  Using cached rsa-4.7.2-py3-none-any.whl (34 kB)\n",
      "Collecting typing-extensions>=3.7.4.2\n",
      "  Downloading typing_extensions-3.10.0.2-py3-none-any.whl (26 kB)\n",
      "Collecting typing-inspect>=0.4.0\n",
      "  Downloading typing_inspect-0.7.1-py3-none-any.whl (8.4 kB)\n",
      "Collecting mypy-extensions>=0.3.0\n",
      "  Downloading mypy_extensions-0.4.3-py2.py3-none-any.whl (4.5 kB)\n",
      "Installing collected packages: pyasn1, rsa, pyasn1-modules, protobuf, cachetools, typing-extensions, mypy-extensions, googleapis-common-protos, google-auth, typing-inspect, pyyaml, grpcio, google-api-core, proto-plus, libcst, google-cloud-speech\n",
      "Successfully installed cachetools-4.2.4 google-api-core-2.1.0 google-auth-2.3.0 google-cloud-speech-2.9.3 googleapis-common-protos-1.53.0 grpcio-1.41.0 libcst-0.3.21 mypy-extensions-0.4.3 proto-plus-1.19.4 protobuf-3.18.1 pyasn1-0.4.8 pyasn1-modules-0.2.8 pyyaml-5.4.1 rsa-4.7.2 typing-extensions-3.10.0.2 typing-inspect-0.7.1\n"
     ]
    }
   ],
   "source": [
    "!pip install --upgrade google-cloud-speech"
   ]
  },
  {
   "cell_type": "code",
   "execution_count": 16,
   "id": "c8be763e-e62d-421e-bbe5-ef3bda035851",
   "metadata": {},
   "outputs": [],
   "source": [
    "import os\n",
    "\n",
    "os.environ['GOOGLE_APPLICATION_CREDENTIALS'] = 'secret.json'"
   ]
  },
  {
   "cell_type": "code",
   "execution_count": 17,
   "id": "1833c4cf-69c6-45ee-b0c0-24e1418f478a",
   "metadata": {},
   "outputs": [],
   "source": [
    "\n",
    "# Imports the Google Cloud client library\n",
    "from google.cloud import speech\n",
    "import io"
   ]
  },
  {
   "cell_type": "code",
   "execution_count": 18,
   "id": "f7d2a386-cf8f-4e65-9b99-8b8aea82cc5f",
   "metadata": {},
   "outputs": [],
   "source": [
    "\n",
    "\n",
    "# Instantiates a client\n",
    "client = speech.SpeechClient()\n"
   ]
  },
  {
   "cell_type": "code",
   "execution_count": 19,
   "id": "e65c78c2-28fc-4a55-aa32-c80905c66564",
   "metadata": {},
   "outputs": [],
   "source": [
    "\n",
    "# The name of the audio file to transcribe\n",
    "gcs_uri = \"gs://cloud-samples-data/speech/brooklyn_bridge.raw\""
   ]
  },
  {
   "cell_type": "code",
   "execution_count": 20,
   "id": "926f452e-fc59-43af-800d-4c8f5d87a0d3",
   "metadata": {},
   "outputs": [],
   "source": [
    "speech_file = 'sample.wav'\n",
    "\n",
    "with io.open(speech_file, 'rb') as f:\n",
    "    content = f.read()\n",
    "             "
   ]
  },
  {
   "cell_type": "code",
   "execution_count": 21,
   "id": "50126dec-2f70-4800-88bc-9581aa67ff6d",
   "metadata": {},
   "outputs": [],
   "source": [
    "#content"
   ]
  },
  {
   "cell_type": "code",
   "execution_count": 24,
   "id": "3433f7b9-bf16-4ef7-949c-2d379f5c5e7b",
   "metadata": {},
   "outputs": [],
   "source": [
    "audio = speech.RecognitionAudio(content=content)\n",
    "\n",
    "config = speech.RecognitionConfig(\n",
    "    encoding=speech.RecognitionConfig.AudioEncoding.ENCODING_UNSPECIFIED,\n",
    "#    sample_rate_hertz=16000,\n",
    "    language_code=\"en-US\",\n",
    ")\n"
   ]
  },
  {
   "cell_type": "code",
   "execution_count": 26,
   "id": "2393c66a-e949-43ca-9db0-7297a2d53d04",
   "metadata": {},
   "outputs": [
    {
     "name": "stdout",
     "output_type": "stream",
     "text": [
      "認識結果: the Birch canoes slid on the smooth planks\n",
      "認識結果:  glue the sheet to the dark blue background\n",
      "認識結果:  it is easy to tell the death of a well\n",
      "認識結果:  these days a chicken leg is a verb dish\n",
      "認識結果:  rice is often served in round bowls\n",
      "認識結果:  the juice of lemons makes find punch\n",
      "認識結果:  the box was down beside the park truck\n",
      "認識結果:  the Hogs of food shop corn and garbage\n",
      "認識結果:  4 hours of study work Facebook\n",
      "認識結果:  a large size in stockings is hard to sell\n"
     ]
    }
   ],
   "source": [
    "\n",
    "# Detects speech in the audio file\n",
    "response = client.recognize(config=config, audio=audio)\n",
    "\n",
    "for result in response.results:\n",
    "    print(\"認識結果: {}\".format(result.alternatives[0].transcript))"
   ]
  },
  {
   "cell_type": "code",
   "execution_count": null,
   "id": "74dc7c28-477d-4ea3-a876-7b3bf617fcc8",
   "metadata": {},
   "outputs": [],
   "source": []
  }
 ],
 "metadata": {
  "kernelspec": {
   "display_name": "Python 3",
   "language": "python",
   "name": "python3"
  },
  "language_info": {
   "codemirror_mode": {
    "name": "ipython",
    "version": 3
   },
   "file_extension": ".py",
   "mimetype": "text/x-python",
   "name": "python",
   "nbconvert_exporter": "python",
   "pygments_lexer": "ipython3",
   "version": "3.8.5"
  }
 },
 "nbformat": 4,
 "nbformat_minor": 5
}
